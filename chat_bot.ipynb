import speech_recognition as sr
import io, time
from gtts import gTTS
from IPython.display import Audio, display, clear_output
from openai import OpenAI

# OpenAI 클라이언트 초기화
client = OpenAI()

class FactBombChatbot:
    def __init__(self):
        self.recognizer = sr.Recognizer()
        self.chat_history = []
        print("🤖 팩폭 챗봇이 준비되었습니다!")

    def speech_to_text(self):
        """음성을 텍스트로 변환 (STT)"""
        try:
            with sr.Microphone() as source:
                print("🎤 말씀하세요...")
                self.recognizer.adjust_for_ambient_noise(source, duration=1)
                audio = self.recognizer.listen(source, timeout=5, phrase_time_limit=10)

            print("🔄 음성을 텍스트로 변환 중...")
            text = self.recognizer.recognize_google(audio, language='ko-KR')
            return text
        except:
            return "음성을 인식할 수 없습니다."

    def generate_openai_response(self, user_input):
        """OpenAI API로 팩폭 응답 생성"""
        prompt = f"""
        당신은 '팩폭해주는 챗봇'입니다.
        - 현실적이고 직설적인 조언을 해주세요
        - 필요하다면 상처가 되더라도 솔직하게 말하세요
        - 대화 형식을 유지하세요 (사용자와 챗봇)
        - 한국어로 답변

        사용자 입력: {user_input}
        """
        response = client.chat.completions.create(
            model="gpt-4o-mini",
            messages=[{"role": "user", "content": prompt}],
            max_tokens=150,
            temperature=0.9
        )
        return response.choices[0].message.content.strip()

    def text_to_speech(self, text):
        """gTTS를 사용한 음성 생성"""
        tts = gTTS(text=text, lang='ko')
        fp = io.BytesIO()
        tts.write_to_fp(fp)
        fp.seek(0)
        return Audio(fp.read(), autoplay=True)

    def chat_round(self):
        """한 라운드 대화 실행"""
        print("\n" + "="*50)
        user_text = self.speech_to_text()
        print(f"👤 사용자: {user_text}")

        if any(word in user_text for word in ["종료", "끝", "그만"]):
            print("👋 채팅을 종료합니다!")
            return False

        self.chat_history.append({"sender": "user", "text": user_text})
        bot_response = self.generate_openai_response(user_text)

        print(f"🤖 팩폭봇: {bot_response}")
        self.chat_history.append({"sender": "bot", "text": bot_response})

        audio_widget = self.text_to_speech(bot_response)
        display(audio_widget)

        return True

# 실행 함수
def run_voice_chatbot():
    bot = FactBombChatbot()
    print("🎯 팩폭 보이스 챗봇 시작! (종료/끝/그만 → 종료)")
    while True:
        if not bot.chat_round():
            break
